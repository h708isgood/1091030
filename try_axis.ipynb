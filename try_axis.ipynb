{
  "nbformat": 4,
  "nbformat_minor": 0,
  "metadata": {
    "colab": {
      "name": "try_axis.ipynb",
      "provenance": [],
      "collapsed_sections": [],
      "authorship_tag": "ABX9TyPX1IxAP66Psbrc/V8dEFvr",
      "include_colab_link": true
    },
    "kernelspec": {
      "name": "python3",
      "display_name": "Python 3"
    }
  },
  "cells": [
    {
      "cell_type": "markdown",
      "metadata": {
        "id": "view-in-github",
        "colab_type": "text"
      },
      "source": [
        "<a href=\"https://colab.research.google.com/github/h708isgood/1091030/blob/main/try_axis.ipynb\" target=\"_parent\"><img src=\"https://colab.research.google.com/assets/colab-badge.svg\" alt=\"Open In Colab\"/></a>"
      ]
    },
    {
      "cell_type": "code",
      "metadata": {
        "id": "F29EBi0a-4_j",
        "outputId": "edd5dfbe-ebb7-4b10-db07-796b06a1b5bb",
        "colab": {
          "base_uri": "https://localhost:8080/",
          "height": 139
        }
      },
      "source": [
        "import numpy as np\n",
        "a=np.array([  [[1,2], [4,5]], [[6,7], [8,9]]   ])\n",
        "b=np.array([  [[1,2], [4,5]], [[6,7], [8,9]]  ])\n",
        "print(a.shape)\n",
        "\n",
        "print(np.sum(a, axis=0))\n",
        "print(np.sum(a, axis=1))\n",
        "print(np.sum(a, axis=2))"
      ],
      "execution_count": null,
      "outputs": [
        {
          "output_type": "stream",
          "text": [
            "(2, 2, 2)\n",
            "[[ 7  9]\n",
            " [12 14]]\n",
            "[[ 5  7]\n",
            " [14 16]]\n",
            "[[ 3  9]\n",
            " [13 17]]\n"
          ],
          "name": "stdout"
        }
      ]
    }
  ]
}